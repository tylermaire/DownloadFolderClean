{
  "nbformat": 4,
  "nbformat_minor": 0,
  "metadata": {
    "colab": {
      "provenance": [],
      "authorship_tag": "ABX9TyPdurzHTzJTcUYvftHvmj7i",
      "include_colab_link": true
    },
    "kernelspec": {
      "name": "python3",
      "display_name": "Python 3"
    },
    "language_info": {
      "name": "python"
    }
  },
  "cells": [
    {
      "cell_type": "markdown",
      "metadata": {
        "id": "view-in-github",
        "colab_type": "text"
      },
      "source": [
        "<a href=\"https://colab.research.google.com/github/tylermaire/DownloadFolderClean/blob/main/Algorithms_for_DNA_Sequencing_Homework_1.ipynb\" target=\"_parent\"><img src=\"https://colab.research.google.com/assets/colab-badge.svg\" alt=\"Open In Colab\"/></a>"
      ]
    },
    {
      "cell_type": "code",
      "execution_count": 1,
      "metadata": {
        "colab": {
          "base_uri": "https://localhost:8080/"
        },
        "id": "9AzQHhZHwBIa",
        "outputId": "ee89a9c1-630b-4e35-ba47-4ce8d242b0b3"
      },
      "outputs": [
        {
          "output_type": "stream",
          "name": "stdout",
          "text": [
            "Mounted at /content/drive\n",
            "Total occurrences of AGGT or its reverse complement ACCT: 306\n"
          ]
        }
      ],
      "source": [
        "from google.colab import drive\n",
        "drive.mount('/content/drive')\n",
        "\n",
        "# Define a function to get the reverse complement of a DNA sequence\n",
        "def reverse_complement(seq):\n",
        "    complement = {'A': 'T', 'C': 'G', 'G': 'C', 'T': 'A'}\n",
        "    return ''.join(complement[base] for base in reversed(seq))\n",
        "\n",
        "# Define the pattern\n",
        "pattern = 'AGGT'\n",
        "\n",
        "# Read the file\n",
        "file_path = '/content/drive/My Drive/quiz/lambda_virus.fa'\n",
        "with open(file_path, 'r') as file:\n",
        "    genome = ''.join(line.strip() for line in file.readlines() if not line.startswith('>'))\n",
        "\n",
        "# Count occurrences of pattern and its reverse complement\n",
        "count_pattern = genome.count(pattern)\n",
        "count_reverse_complement = genome.count(reverse_complement(pattern))\n",
        "\n",
        "# Sum up the counts\n",
        "total_count = count_pattern + count_reverse_complement\n",
        "\n",
        "print(\"Total occurrences of AGGT or its reverse complement ACCT:\", total_count)"
      ]
    },
    {
      "cell_type": "code",
      "source": [
        "from google.colab import drive\n",
        "drive.mount('/content/drive')\n",
        "\n",
        "# Define a function to get the reverse complement of a DNA sequence\n",
        "def reverse_complement(seq):\n",
        "    complement = {'A': 'T', 'C': 'G', 'G': 'C', 'T': 'A'}\n",
        "    return ''.join(complement[base] for base in reversed(seq))\n",
        "\n",
        "# Define the pattern\n",
        "pattern = 'TTAA'\n",
        "\n",
        "# Read the file\n",
        "file_path = '/content/drive/My Drive/quiz/lambda_virus.fa'\n",
        "with open(file_path, 'r') as file:\n",
        "    genome = ''.join(line.strip() for line in file.readlines() if not line.startswith('>'))\n",
        "\n",
        "# Count occurrences of pattern and its reverse complement\n",
        "count_pattern = genome.count(pattern)\n",
        "\n",
        "# Sum up the counts\n",
        "total_count = count_pattern\n",
        "\n",
        "print(\"Total occurrences of TTAA or its reverse complement:\", total_count)\n"
      ],
      "metadata": {
        "colab": {
          "base_uri": "https://localhost:8080/"
        },
        "id": "2HQhkzg2wQkz",
        "outputId": "cd58d595-0f08-44d6-fd1d-0ea72d513eb9"
      },
      "execution_count": 2,
      "outputs": [
        {
          "output_type": "stream",
          "name": "stdout",
          "text": [
            "Drive already mounted at /content/drive; to attempt to forcibly remount, call drive.mount(\"/content/drive\", force_remount=True).\n",
            "Total occurrences of TTAA or its reverse complement: 195\n"
          ]
        }
      ]
    },
    {
      "cell_type": "code",
      "source": [
        "from google.colab import drive\n",
        "drive.mount('/content/drive')\n",
        "\n",
        "# Define a function to get the reverse complement of a DNA sequence\n",
        "def reverse_complement(seq):\n",
        "    complement = {'A': 'T', 'C': 'G', 'G': 'C', 'T': 'A'}\n",
        "    return ''.join(complement[base] for base in reversed(seq))\n",
        "\n",
        "# Define the pattern\n",
        "pattern = 'ACTAAGT'\n",
        "\n",
        "# Read the file\n",
        "file_path = '/content/drive/My Drive/quiz/lambda_virus.fa'\n",
        "with open(file_path, 'r') as file:\n",
        "    genome = ''.join(line.strip() for line in file.readlines() if not line.startswith('>'))\n",
        "\n",
        "# Find the leftmost occurrence of the pattern or its reverse complement\n",
        "index_pattern = genome.find(pattern)\n",
        "index_reverse_complement = genome.find(reverse_complement(pattern))\n",
        "\n",
        "# Choose the smaller index as the leftmost occurrence\n",
        "leftmost_offset = min(index_pattern, index_reverse_complement)\n",
        "\n",
        "print(\"Offset of the leftmost occurrence of ACTAAGT or its reverse complement:\", leftmost_offset)\n"
      ],
      "metadata": {
        "colab": {
          "base_uri": "https://localhost:8080/"
        },
        "id": "e-xMbsB1wX1M",
        "outputId": "e09ade81-ff2f-4248-b1c9-7ae554587aca"
      },
      "execution_count": 3,
      "outputs": [
        {
          "output_type": "stream",
          "name": "stdout",
          "text": [
            "Drive already mounted at /content/drive; to attempt to forcibly remount, call drive.mount(\"/content/drive\", force_remount=True).\n",
            "Offset of the leftmost occurrence of ACTAAGT or its reverse complement: 26028\n"
          ]
        }
      ]
    },
    {
      "cell_type": "code",
      "source": [
        "from google.colab import drive\n",
        "drive.mount('/content/drive')\n",
        "\n",
        "# Define a function to get the reverse complement of a DNA sequence\n",
        "def reverse_complement(seq):\n",
        "    complement = {'A': 'T', 'C': 'G', 'G': 'C', 'T': 'A'}\n",
        "    return ''.join(complement[base] for base in reversed(seq))\n",
        "\n",
        "# Define the pattern\n",
        "pattern = 'AGTCGA'\n",
        "\n",
        "# Read the file\n",
        "file_path = '/content/drive/My Drive/quiz/lambda_virus.fa'\n",
        "with open(file_path, 'r') as file:\n",
        "    genome = ''.join(line.strip() for line in file.readlines() if not line.startswith('>'))\n",
        "\n",
        "# Find the leftmost occurrence of the pattern or its reverse complement\n",
        "index_pattern = genome.find(pattern)\n",
        "index_reverse_complement = genome.find(reverse_complement(pattern))\n",
        "\n",
        "# Choose the smaller index as the leftmost occurrence\n",
        "leftmost_offset = min(index_pattern, index_reverse_complement)\n",
        "\n",
        "print(\"Offset of the leftmost occurrence of AGTCGA or its reverse complement:\", leftmost_offset)\n"
      ],
      "metadata": {
        "colab": {
          "base_uri": "https://localhost:8080/"
        },
        "id": "qjsqOO47wgCl",
        "outputId": "33efd4b3-632d-4e38-85b7-bc24f3b2b980"
      },
      "execution_count": 4,
      "outputs": [
        {
          "output_type": "stream",
          "name": "stdout",
          "text": [
            "Drive already mounted at /content/drive; to attempt to forcibly remount, call drive.mount(\"/content/drive\", force_remount=True).\n",
            "Offset of the leftmost occurrence of AGTCGA or its reverse complement: 450\n"
          ]
        }
      ]
    },
    {
      "cell_type": "code",
      "source": [
        "def naive_2mm(p, t):\n",
        "    occurrences = []\n",
        "    for i in range(len(t) - len(p) + 1):  # Loop over alignments\n",
        "        mismatches = 0\n",
        "        for j in range(len(p)):  # Loop over characters\n",
        "            if t[i+j] != p[j]:\n",
        "                mismatches += 1\n",
        "                if mismatches > 2:\n",
        "                    break\n",
        "        if mismatches <= 2:\n",
        "            occurrences.append(i)\n",
        "    return occurrences\n",
        "\n",
        "# Read the file\n",
        "file_path = '/content/drive/My Drive/quiz/lambda_virus.fa'\n",
        "with open(file_path, 'r') as file:\n",
        "    genome = ''.join(line.strip() for line in file.readlines() if not line.startswith('>'))\n",
        "\n",
        "# Define the pattern\n",
        "pattern = 'TTCAAGCC'\n",
        "\n",
        "# Find occurrences with up to 2 mismatches\n",
        "occurrences_2mm = naive_2mm(pattern, genome)\n",
        "\n",
        "print(\"Occurrences of TTCAAGCC with up to 2 mismatches:\", len(occurrences_2mm))\n"
      ],
      "metadata": {
        "colab": {
          "base_uri": "https://localhost:8080/"
        },
        "id": "bsPJ_TB8wo85",
        "outputId": "5306cb8f-b7b4-4b65-ff3a-ae9542ba075e"
      },
      "execution_count": 6,
      "outputs": [
        {
          "output_type": "stream",
          "name": "stdout",
          "text": [
            "Occurrences of TTCAAGCC with up to 2 mismatches: 191\n"
          ]
        }
      ]
    },
    {
      "cell_type": "code",
      "source": [
        "def naive_2mm(p, t):\n",
        "    occurrences = []\n",
        "    for i in range(len(t) - len(p) + 1):  # Loop over alignments\n",
        "        mismatches = 0\n",
        "        for j in range(len(p)):  # Loop over characters\n",
        "            if t[i+j] != p[j]:\n",
        "                mismatches += 1\n",
        "                if mismatches > 2:\n",
        "                    break\n",
        "        if mismatches <= 2:\n",
        "            occurrences.append(i)\n",
        "    return occurrences\n",
        "\n",
        "# Read the file\n",
        "file_path = '/content/drive/My Drive/quiz/lambda_virus.fa'\n",
        "with open(file_path, 'r') as file:\n",
        "    genome = ''.join(line.strip() for line in file.readlines() if not line.startswith('>'))\n",
        "\n",
        "# Define the pattern\n",
        "pattern = 'AGGAGGTT'\n",
        "\n",
        "# Find occurrences with up to 2 mismatches\n",
        "occurrences_2mm = naive_2mm(pattern, genome)\n",
        "\n",
        "# Print the offset of the leftmost occurrence\n",
        "if occurrences_2mm:\n",
        "    print(\"Offset of the leftmost occurrence of AGGAGGTT with up to 2 mismatches:\", occurrences_2mm[0])\n",
        "else:\n",
        "    print(\"No occurrence of AGGAGGTT with up to 2 mismatches found.\")\n"
      ],
      "metadata": {
        "colab": {
          "base_uri": "https://localhost:8080/"
        },
        "id": "yQKeR4JMwwF7",
        "outputId": "220a85f5-385b-4f78-dfb7-36cf8cd1a413"
      },
      "execution_count": 7,
      "outputs": [
        {
          "output_type": "stream",
          "name": "stdout",
          "text": [
            "Offset of the leftmost occurrence of AGGAGGTT with up to 2 mismatches: 49\n"
          ]
        }
      ]
    },
    {
      "cell_type": "code",
      "source": [
        "from google.colab import drive\n",
        "drive.mount('/content/drive')\n",
        "\n",
        "# Function to parse FASTQ file and extract quality scores\n",
        "def parse_fastq(file_path):\n",
        "    quality_scores = []\n",
        "    with open(file_path, 'r') as file:\n",
        "        lines = file.readlines()\n",
        "        for i in range(3, len(lines), 4):  # Quality scores are on every 4th line starting from line 4\n",
        "            quality_scores.append(lines[i].strip())\n",
        "    return quality_scores\n",
        "\n",
        "# Calculate mean quality score for each cycle position\n",
        "def calculate_mean_quality(quality_scores):\n",
        "    mean_quality = [0] * len(quality_scores[0])  # Initialize list for mean quality scores\n",
        "    for score in quality_scores:\n",
        "        for i in range(len(score)):\n",
        "            mean_quality[i] += ord(score[i]) - 33  # Convert ASCII to Phred quality score\n",
        "    total_reads = len(quality_scores)\n",
        "    mean_quality = [score / total_reads for score in mean_quality]\n",
        "    return mean_quality\n",
        "\n",
        "# Read the FASTQ file\n",
        "file_path = '/content/drive/My Drive/quiz/ERR037900_1.first1000.fastq'\n",
        "quality_scores = parse_fastq(file_path)\n",
        "\n",
        "# Calculate mean quality score for each cycle position\n",
        "mean_quality = calculate_mean_quality(quality_scores)\n",
        "\n",
        "# Find the cycle position with the lowest mean quality score\n",
        "worst_cycle = mean_quality.index(min(mean_quality))\n",
        "\n",
        "print(\"The sequencing cycle with the problem is:\", worst_cycle)\n"
      ],
      "metadata": {
        "colab": {
          "base_uri": "https://localhost:8080/"
        },
        "id": "ZviMk1pgxLIo",
        "outputId": "0e048410-1853-4aa5-adad-fd5b7ad4a170"
      },
      "execution_count": 8,
      "outputs": [
        {
          "output_type": "stream",
          "name": "stdout",
          "text": [
            "Drive already mounted at /content/drive; to attempt to forcibly remount, call drive.mount(\"/content/drive\", force_remount=True).\n",
            "The sequencing cycle with the problem is: 66\n"
          ]
        }
      ]
    }
  ]
}